{
 "cells": [
  {
   "cell_type": "code",
   "execution_count": 3,
   "metadata": {},
   "outputs": [
    {
     "name": "stdout",
     "output_type": "stream",
     "text": [
      "Momentum Optimization Result: [0.00422811 0.00336262]\n",
      "Momentum Optimization Value: 4.0491421860573976e-05\n",
      "RMSProp Optimization Result: [0.08758653 0.08758652]\n",
      "RMSProp Optimization Value: 0.023014197322439527\n"
     ]
    }
   ],
   "source": [
    "import matplotlib.pyplot as plt\n",
    "import numpy as np\n",
    "\n",
    "# Objective function\n",
    "def f_2d(x1, x2):\n",
    "    return x1**2 + 2 * x2**2\n",
    "\n",
    "# Gradient of the objective function\n",
    "def f_2d_grad(x1, x2):\n",
    "    return np.array([2 * x1, 4 * x2])\n",
    "\n",
    "def momentum_optimizer(initial_position, learning_rate, momentum_factor, num_iterations):\n",
    "    position = np.array(initial_position)\n",
    "    velocity = np.zeros_like(position)\n",
    "\n",
    "    for _ in range(num_iterations):\n",
    "        grad = f_2d_grad(*position)\n",
    "        velocity = momentum_factor * velocity - learning_rate * grad\n",
    "        position = position + velocity\n",
    "\n",
    "    return position\n",
    "\n",
    "def rmsprop_optimizer(initial_position, learning_rate, decay_rate, epsilon, num_iterations):\n",
    "    position = np.array(initial_position)\n",
    "    squared_gradient_avg = np.zeros_like(position)\n",
    "\n",
    "    for _ in range(num_iterations):\n",
    "        grad = f_2d_grad(*position)\n",
    "        squared_gradient_avg = decay_rate * squared_gradient_avg + (1 - decay_rate) * grad**2\n",
    "        position = position - learning_rate * grad / (np.sqrt(squared_gradient_avg) + epsilon)\n",
    "\n",
    "    return position\n",
    "\n",
    "# Example usage\n",
    "initial_position = [1.0, 1.0]\n",
    "learning_rate = 0.01\n",
    "momentum_factor = 0.9\n",
    "decay_rate = 0.9\n",
    "epsilon = 1e-8\n",
    "num_iterations = 100\n",
    "\n",
    "X, Y = np.meshgrid(np.linspace(-1, 1, 10), np.linspace(-1, 1, 10))\n",
    "# Momentum optimization\n",
    "result_momentum = momentum_optimizer(initial_position, learning_rate, momentum_factor, num_iterations)\n",
    "print(\"Momentum Optimization Result:\", result_momentum)\n",
    "print(\"Momentum Optimization Value:\", f_2d(*result_momentum))\n",
    "plt.contourf(X, Y, f_2d(X, Y))\n",
    "\n",
    "# RMSProp optimization\n",
    "result_rmsprop = rmsprop_optimizer(initial_position, learning_rate, decay_rate, epsilon, num_iterations)\n",
    "print(\"RMSProp Optimization Result:\", result_rmsprop)\n",
    "print(\"RMSProp Optimization Value:\", f_2d(*result_rmsprop))\n"
   ]
  }
 ],
 "metadata": {
  "kernelspec": {
   "display_name": "Python 3",
   "language": "python",
   "name": "python3"
  },
  "language_info": {
   "codemirror_mode": {
    "name": "ipython",
    "version": 3
   },
   "file_extension": ".py",
   "mimetype": "text/x-python",
   "name": "python",
   "nbconvert_exporter": "python",
   "pygments_lexer": "ipython3",
   "version": "3.11.6"
  }
 },
 "nbformat": 4,
 "nbformat_minor": 2
}
